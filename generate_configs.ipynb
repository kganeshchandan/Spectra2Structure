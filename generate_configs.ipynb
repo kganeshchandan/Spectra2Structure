{
 "cells": [
  {
   "cell_type": "code",
   "execution_count": 1,
   "metadata": {},
   "outputs": [],
   "source": [
    "config = {}\n",
    "\n",
    "config['wandb'] = {\n",
    "    \"dir\": \"/scratch/kanakala.ganesh/\",\n",
    "    \"job_type\": \"sample\",\n",
    "    \"project_name\": \"CLIP_Full\",\n",
    "    \"run_name\": \"RUN_best_config\"\n",
    "}\n",
    "\n",
    "config['data'] = {\"qm9_broad_ir_path\":'/home2/kanakala.ganesh/ir_data/qm9_broad_ir.pkl',\n",
    "                  \"vocab_path\":'/home2/kanakala.ganesh/CLIP_PART_1/data/qm9_vocab.pkl',\n",
    "                  \"datafiles\" : {\n",
    "                        'train': '/home2/kanakala.ganesh/ir_data/raw_train.pickle',\n",
    "                        'test':  '/home2/kanakala.ganesh/ir_data/raw_test.pickle',\n",
    "                        'val':   '/home2/kanakala.ganesh/ir_data/raw_val.pickle'\n",
    "                        },\n",
    "                  \"normalization\" : \"minmax\",\n",
    "                  \"shuffle\": True,\n",
    "                  \"batch_size\":400,\n",
    "                  \"seq_len\":70,\n",
    "                  \"splits\":[0.8, 0.1, 0.1],\n",
    "                  \"num_workers\":20\n",
    "                }\n",
    "\n",
    "config['molecule_encoder'] = {\n",
    "    'attention': 1,\n",
    "    'coords_weight' :1.0,\n",
    "    'device': \"cuda\",\n",
    "    'hidden_nf':256,\n",
    "    'in_edge_nf':0,\n",
    "    'in_node_nf':15,\n",
    "    'n_layers': 5,\n",
    "    'node_attr': 1,\n",
    "    'output_size':512\n",
    "}\n",
    "\n",
    "config['molecule_decoder'] = {\n",
    "    'in_size': 512,\n",
    "    'latent_size' : 512,\n",
    "    'hidden_size': 512,\n",
    "    'n_layers' : 3,\n",
    "    'n_heads' : 4\n",
    "}\n",
    "\n",
    "config['spectra_encoder'] = {\n",
    "    'd_ff': 1024,\n",
    "    'dropout': 0.1,\n",
    "    'dropout_emb': 0.1,\n",
    "    'h_dim': 512,\n",
    "    'max_time_steps': 1000,\n",
    "    'num_heads': 7,\n",
    "    'num_layers': 5,\n",
    "    'output_size': 512,\n",
    "    'patch_size': 7 ,\n",
    "    'use_clf_token': True,\n",
    "}\n",
    "\n",
    "config['train'] = {\n",
    "    'lr':0.0001,\n",
    "    'temperature' :1,\n",
    "    'checkpoint_dir': \"checkpoints/\" + str(config['wandb']['run_name']),\n",
    "    'device':\"cuda\",\n",
    "    'num_epochs':500,\n",
    "    'threshold': 0.9999,\n",
    "    'weight_decay': 1.0e-06\n",
    "}\n",
    "\n",
    "\n",
    "config['data']['max_charge'] = None\n",
    "config['data']['num_species'] = None"
   ]
  },
  {
   "cell_type": "code",
   "execution_count": null,
   "metadata": {},
   "outputs": [],
   "source": []
  },
  {
   "cell_type": "code",
   "execution_count": 1,
   "metadata": {},
   "outputs": [],
   "source": [
    "import yaml\n",
    "# with open('./sample_config.yaml', 'w') as f:\n",
    "#     yaml.dump(config, f)"
   ]
  },
  {
   "cell_type": "code",
   "execution_count": 2,
   "metadata": {},
   "outputs": [],
   "source": [
    "config = yaml.safe_load(open('./configs/standard/unit_norm.yaml', 'r'))\n",
    "# config['data']['normalization'] = \"unit\"\n",
    "# config['wandb']['run_name'] = \"RUN_unit_norm\"\n",
    "# config['train']['checkpoint_dir'] = \"checkpoints/\" + str(config['wandb']['run_name'])\n",
    "# with open('configs/standard/unit_norm.yaml', 'w') as f:\n",
    "#     yaml.dump(config, f)\n",
    "    \n",
    "# config = yaml.safe_load(open('./sample_config.yaml', 'r'))\n",
    "# config['data']['normalization'] = \"minmax\"\n",
    "# config['wandb']['run_name'] = \"RUN_minmax_norm\"\n",
    "# config['train']['checkpoint_dir'] = \"checkpoints/\" + str(config['wandb']['run_name'])\n",
    "# with open('configs/standard/minmax_norm.yaml', 'w') as f:\n",
    "#     yaml.dump(config, f)\n",
    "    "
   ]
  },
  {
   "cell_type": "code",
   "execution_count": 7,
   "metadata": {},
   "outputs": [],
   "source": [
    "for batch_size in [16, 32, 64, 128, 256, 512]:\n",
    "    config = yaml.safe_load(open('./configs/standard/unit_norm.yaml', 'r'))\n",
    "    config['wandb']['project_name'] = 'CLIP_batch_size'\n",
    "    config['data']['batch_size'] = batch_size\n",
    "    config['wandb']['run_name'] = \"run_batch_size_\" + str(batch_size)\n",
    "    config['train']['checkpoint_dir'] = \"checkpoints/\" + config['wandb']['run_name']\n",
    "    with open('configs/batch_size/batch_'+str(batch_size)+'.yaml', 'w') as f:\n",
    "        yaml.dump(config, f)"
   ]
  },
  {
   "cell_type": "code",
   "execution_count": 3,
   "metadata": {},
   "outputs": [],
   "source": [
    "for window_size in [1,3,5,7,9,11,13,15]:\n",
    "    config = yaml.safe_load(open('./configs/standard/unit_norm.yaml', 'r'))\n",
    "    config['data']['batch_size'] = 256\n",
    "    config['wandb']['project_name'] = 'CLIP_window_size'\n",
    "    config['spectra_encoder']['patch_size'] = window_size\n",
    "    config['wandb']['run_name'] = \"run_window_size_\" + str(window_size)\n",
    "    config['train']['checkpoint_dir'] = \"checkpoints/\" + config['wandb']['run_name']\n",
    "    with open('configs/window_size/window_'+str(window_size)+'.yaml', 'w') as f:\n",
    "        yaml.dump(config, f)"
   ]
  },
  {
   "cell_type": "code",
   "execution_count": null,
   "metadata": {},
   "outputs": [],
   "source": []
  }
 ],
 "metadata": {
  "kernelspec": {
   "display_name": "sbdd-env",
   "language": "python",
   "name": "python3"
  },
  "language_info": {
   "codemirror_mode": {
    "name": "ipython",
    "version": 3
   },
   "file_extension": ".py",
   "mimetype": "text/x-python",
   "name": "python",
   "nbconvert_exporter": "python",
   "pygments_lexer": "ipython3",
   "version": "3.10.8"
  },
  "orig_nbformat": 4
 },
 "nbformat": 4,
 "nbformat_minor": 2
}
